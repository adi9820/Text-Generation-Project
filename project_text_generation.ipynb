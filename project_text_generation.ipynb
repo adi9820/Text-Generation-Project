{
  "nbformat": 4,
  "nbformat_minor": 0,
  "metadata": {
    "colab": {
      "provenance": [],
      "gpuType": "T4"
    },
    "kernelspec": {
      "name": "python3",
      "display_name": "Python 3"
    },
    "accelerator": "GPU"
  },
  "cells": [
    {
      "cell_type": "code",
      "metadata": {
        "id": "oZNHqp5lnxz7",
        "outputId": "a40157be-1e5d-4a0b-e287-96fccefd336a",
        "colab": {
          "base_uri": "https://localhost:8080/"
        }
      },
      "source": [
        "#download the data and save it to poem.txt\n",
        "!wget https://www.gutenberg.org/files/1661/1661-0.txt -O book.txt"
      ],
      "execution_count": 1,
      "outputs": [
        {
          "output_type": "stream",
          "name": "stdout",
          "text": [
            "--2023-12-21 08:29:06--  https://www.gutenberg.org/files/1661/1661-0.txt\n",
            "Resolving www.gutenberg.org (www.gutenberg.org)... 152.19.134.47, 2610:28:3090:3000:0:bad:cafe:47\n",
            "Connecting to www.gutenberg.org (www.gutenberg.org)|152.19.134.47|:443... connected.\n",
            "HTTP request sent, awaiting response... 200 OK\n",
            "Length: 607504 (593K) [text/plain]\n",
            "Saving to: ‘book.txt’\n",
            "\n",
            "book.txt            100%[===================>] 593.27K  3.82MB/s    in 0.2s    \n",
            "\n",
            "2023-12-21 08:29:07 (3.82 MB/s) - ‘book.txt’ saved [607504/607504]\n",
            "\n"
          ]
        }
      ]
    },
    {
      "cell_type": "code",
      "metadata": {
        "id": "iHLcaBBEoLRd"
      },
      "source": [
        "#read the file in text string\n",
        "text = open('book.txt', 'r', encoding='utf-8').read()\n",
        "text = text.lower()"
      ],
      "execution_count": 2,
      "outputs": []
    },
    {
      "cell_type": "code",
      "metadata": {
        "id": "NbUq1oKCotPP"
      },
      "source": [
        "#create list of sentences\n",
        "sentences = text.split('\\n')"
      ],
      "execution_count": 3,
      "outputs": []
    },
    {
      "cell_type": "code",
      "metadata": {
        "id": "CS0-TSEE5RZL"
      },
      "source": [
        "#import dependencies to preprocess the text data and making sequences\n",
        "import tensorflow as tf\n",
        "import keras\n",
        "from keras.preprocessing.text import Tokenizer\n",
        "from keras.preprocessing.sequence import pad_sequences"
      ],
      "execution_count": 4,
      "outputs": []
    },
    {
      "cell_type": "code",
      "metadata": {
        "id": "60_eT7er5qhQ"
      },
      "source": [
        "#initialize the tokenizer, which can work char by char\n",
        "tokenizer = Tokenizer(oov_token='<UNK>')"
      ],
      "execution_count": 5,
      "outputs": []
    },
    {
      "cell_type": "code",
      "metadata": {
        "id": "NQ-PNcaNAeCW"
      },
      "source": [
        "tokenizer.fit_on_texts(sentences)"
      ],
      "execution_count": 6,
      "outputs": []
    },
    {
      "cell_type": "code",
      "metadata": {
        "id": "3qu1rTY7NCxI",
        "outputId": "3391b9a5-b958-41be-a789-6e41b9c4c847",
        "colab": {
          "base_uri": "https://localhost:8080/"
        }
      },
      "source": [
        "vocab_size = len(tokenizer.word_index) + 1 # 1 is added for unknown tokens\n",
        "vocab_size"
      ],
      "execution_count": 7,
      "outputs": [
        {
          "output_type": "execute_result",
          "data": {
            "text/plain": [
              "8923"
            ]
          },
          "metadata": {},
          "execution_count": 7
        }
      ]
    },
    {
      "cell_type": "code",
      "source": [
        "sequences=tokenizer.texts_to_sequences(sentences)"
      ],
      "metadata": {
        "id": "l92mfM_qTzvX"
      },
      "execution_count": 8,
      "outputs": []
    },
    {
      "cell_type": "code",
      "metadata": {
        "id": "RaFyCfGE-vSi"
      },
      "source": [
        "input_sequences = []\n",
        "for sequence in sequences:\n",
        "  for i in range(1, len(sequence)):\n",
        "    n_gram_sequence = sequence[:i+1]\n",
        "    input_sequences.append(n_gram_sequence)"
      ],
      "execution_count": 9,
      "outputs": []
    },
    {
      "cell_type": "code",
      "metadata": {
        "id": "J5RZLLmsAipB",
        "outputId": "eafa4b4e-4710-42ec-a96e-d8b4869bd013",
        "colab": {
          "base_uri": "https://localhost:8080/"
        }
      },
      "source": [
        "print(input_sequences[0], input_sequences[1], input_sequences[2], input_sequences[3])"
      ],
      "execution_count": 10,
      "outputs": [
        {
          "output_type": "stream",
          "name": "stdout",
          "text": [
            "[4776, 158] [4776, 158, 331] [4776, 158, 331, 886] [4776, 158, 331, 886, 5]\n"
          ]
        }
      ]
    },
    {
      "cell_type": "code",
      "metadata": {
        "id": "-3mHT6TUBApU",
        "outputId": "e907bb8f-adda-487d-9f70-f0f6bca71180",
        "colab": {
          "base_uri": "https://localhost:8080/"
        }
      },
      "source": [
        "#find the maximum length among sequences\n",
        "max_seq_len = max([len(seq) for seq in input_sequences])\n",
        "max_seq_len"
      ],
      "execution_count": 11,
      "outputs": [
        {
          "output_type": "execute_result",
          "data": {
            "text/plain": [
              "20"
            ]
          },
          "metadata": {},
          "execution_count": 11
        }
      ]
    },
    {
      "cell_type": "code",
      "metadata": {
        "id": "r8mnnT6nBi5K"
      },
      "source": [
        "#pad the sequences to ensure that they are all of same length\n",
        "padded_sequences = pad_sequences(input_sequences, maxlen = max_seq_len)"
      ],
      "execution_count": 12,
      "outputs": []
    },
    {
      "cell_type": "code",
      "metadata": {
        "id": "GpvirsLgWPoU",
        "outputId": "3413c933-cb73-47c9-d9c5-0342fb6bdd75",
        "colab": {
          "base_uri": "https://localhost:8080/"
        }
      },
      "source": [
        "print(padded_sequences[0], padded_sequences[1])"
      ],
      "execution_count": 13,
      "outputs": [
        {
          "output_type": "stream",
          "name": "stdout",
          "text": [
            "[   0    0    0    0    0    0    0    0    0    0    0    0    0    0\n",
            "    0    0    0    0 4776  158] [   0    0    0    0    0    0    0    0    0    0    0    0    0    0\n",
            "    0    0    0 4776  158  331]\n"
          ]
        }
      ]
    },
    {
      "cell_type": "code",
      "metadata": {
        "id": "YYhboOBWCLb3"
      },
      "source": [
        "import numpy as np\n",
        "padded_sequences = np.array(padded_sequences)"
      ],
      "execution_count": 14,
      "outputs": []
    },
    {
      "cell_type": "code",
      "metadata": {
        "id": "8BW2NjBcCjLz",
        "outputId": "034baae3-e1ee-4da6-82fd-ad20b30d1bbe",
        "colab": {
          "base_uri": "https://localhost:8080/"
        }
      },
      "source": [
        "print(len(padded_sequences[0]))\n",
        "print(len(padded_sequences[1]))"
      ],
      "execution_count": 15,
      "outputs": [
        {
          "output_type": "stream",
          "name": "stdout",
          "text": [
            "20\n",
            "20\n"
          ]
        }
      ]
    },
    {
      "cell_type": "code",
      "metadata": {
        "id": "KdvK9urMCZXC"
      },
      "source": [
        "#prepare training sequences and labels\n",
        "#we will keep the last value of the sequence as our target label and all values before that as input to sequence model\n",
        "x = padded_sequences[:, : -1]\n",
        "labels = padded_sequences[:, -1]"
      ],
      "execution_count": 16,
      "outputs": []
    },
    {
      "cell_type": "code",
      "source": [
        "x.shape"
      ],
      "metadata": {
        "colab": {
          "base_uri": "https://localhost:8080/"
        },
        "id": "sCMXFi0KVrwY",
        "outputId": "928d9ed9-ea0d-42f1-b9a2-798c02faf3a8"
      },
      "execution_count": 17,
      "outputs": [
        {
          "output_type": "execute_result",
          "data": {
            "text/plain": [
              "(101523, 19)"
            ]
          },
          "metadata": {},
          "execution_count": 17
        }
      ]
    },
    {
      "cell_type": "code",
      "metadata": {
        "id": "zBMmN6-qMqKu",
        "outputId": "300b5e95-ca49-4cf0-f62c-a41bbf69a007",
        "colab": {
          "base_uri": "https://localhost:8080/"
        }
      },
      "source": [
        "labels.shape"
      ],
      "execution_count": 18,
      "outputs": [
        {
          "output_type": "execute_result",
          "data": {
            "text/plain": [
              "(101523,)"
            ]
          },
          "metadata": {},
          "execution_count": 18
        }
      ]
    },
    {
      "cell_type": "code",
      "metadata": {
        "id": "wvrPC8n5Dw61",
        "colab": {
          "base_uri": "https://localhost:8080/"
        },
        "outputId": "b4c7252a-9dc2-4a76-eb70-3560d025bdbf"
      },
      "source": [
        "#to one hot encode the labels\n",
        "y = tf.keras.utils.to_categorical(labels, num_classes=vocab_size)\n",
        "y.shape"
      ],
      "execution_count": 19,
      "outputs": [
        {
          "output_type": "execute_result",
          "data": {
            "text/plain": [
              "(101523, 8923)"
            ]
          },
          "metadata": {},
          "execution_count": 19
        }
      ]
    },
    {
      "cell_type": "code",
      "metadata": {
        "id": "G6H2aOeJGIfG"
      },
      "source": [
        "#import dependencies for defining the model\n",
        "from keras.models import Sequential\n",
        "from keras.layers import Embedding, Bidirectional, LSTM, Dense\n",
        "from keras.optimizers import Adam"
      ],
      "execution_count": 20,
      "outputs": []
    },
    {
      "cell_type": "code",
      "metadata": {
        "id": "NKJVkDw8GxCH",
        "outputId": "afede087-790c-4ba9-f7ee-d50024e69563",
        "colab": {
          "base_uri": "https://localhost:8080/"
        }
      },
      "source": [
        "#define and compile the model\n",
        "model = Sequential()\n",
        "model.add(Embedding(vocab_size, 100, input_length=max_seq_len-1))\n",
        "model.add(Bidirectional(LSTM(256)))\n",
        "model.add(Dense(vocab_size, activation='softmax'))\n",
        "adam = Adam(learning_rate=0.01)\n",
        "model.compile(loss='categorical_crossentropy', optimizer=adam, metrics=['acc'])\n",
        "model.summary()"
      ],
      "execution_count": 21,
      "outputs": [
        {
          "output_type": "stream",
          "name": "stdout",
          "text": [
            "Model: \"sequential\"\n",
            "_________________________________________________________________\n",
            " Layer (type)                Output Shape              Param #   \n",
            "=================================================================\n",
            " embedding (Embedding)       (None, 19, 100)           892300    \n",
            "                                                                 \n",
            " bidirectional (Bidirection  (None, 512)               731136    \n",
            " al)                                                             \n",
            "                                                                 \n",
            " dense (Dense)               (None, 8923)              4577499   \n",
            "                                                                 \n",
            "=================================================================\n",
            "Total params: 6200935 (23.65 MB)\n",
            "Trainable params: 6200935 (23.65 MB)\n",
            "Non-trainable params: 0 (0.00 Byte)\n",
            "_________________________________________________________________\n"
          ]
        }
      ]
    },
    {
      "cell_type": "code",
      "metadata": {
        "id": "O_L_wdid2YzQ"
      },
      "source": [
        "#initialize the callback for early stopping the training if there is not at least 1% improvement in the accuracy\n",
        "from keras.callbacks import EarlyStopping\n",
        "es = EarlyStopping(monitor = 'acc', min_delta=0.01, patience=2)"
      ],
      "execution_count": 22,
      "outputs": []
    },
    {
      "cell_type": "code",
      "metadata": {
        "id": "PAyKsdQtHxkk",
        "outputId": "869dbaef-0ed5-4a85-e322-f7292ee314da",
        "colab": {
          "base_uri": "https://localhost:8080/"
        }
      },
      "source": [
        "model_history=model.fit(x, y, epochs=50, verbose=1, batch_size=512, callbacks=[es])"
      ],
      "execution_count": 23,
      "outputs": [
        {
          "output_type": "stream",
          "name": "stdout",
          "text": [
            "Epoch 1/50\n",
            "199/199 [==============================] - 29s 118ms/step - loss: 6.2030 - acc: 0.0839\n",
            "Epoch 2/50\n",
            "199/199 [==============================] - 11s 57ms/step - loss: 5.3110 - acc: 0.1410\n",
            "Epoch 3/50\n",
            "199/199 [==============================] - 9s 47ms/step - loss: 4.7708 - acc: 0.1727\n",
            "Epoch 4/50\n",
            "199/199 [==============================] - 8s 42ms/step - loss: 4.2551 - acc: 0.2025\n",
            "Epoch 5/50\n",
            "199/199 [==============================] - 9s 47ms/step - loss: 3.7677 - acc: 0.2460\n",
            "Epoch 6/50\n",
            "199/199 [==============================] - 9s 45ms/step - loss: 3.3227 - acc: 0.2949\n",
            "Epoch 7/50\n",
            "199/199 [==============================] - 8s 42ms/step - loss: 2.9588 - acc: 0.3480\n",
            "Epoch 8/50\n",
            "199/199 [==============================] - 8s 40ms/step - loss: 2.6530 - acc: 0.3975\n",
            "Epoch 9/50\n",
            "199/199 [==============================] - 8s 41ms/step - loss: 2.3988 - acc: 0.4403\n",
            "Epoch 10/50\n",
            "199/199 [==============================] - 8s 39ms/step - loss: 2.1930 - acc: 0.4797\n",
            "Epoch 11/50\n",
            "199/199 [==============================] - 8s 42ms/step - loss: 2.0190 - acc: 0.5131\n",
            "Epoch 12/50\n",
            "199/199 [==============================] - 8s 40ms/step - loss: 1.8775 - acc: 0.5390\n",
            "Epoch 13/50\n",
            "199/199 [==============================] - 8s 42ms/step - loss: 1.7539 - acc: 0.5653\n",
            "Epoch 14/50\n",
            "199/199 [==============================] - 8s 41ms/step - loss: 1.6609 - acc: 0.5827\n",
            "Epoch 15/50\n",
            "199/199 [==============================] - 8s 41ms/step - loss: 1.5754 - acc: 0.6011\n",
            "Epoch 16/50\n",
            "199/199 [==============================] - 8s 41ms/step - loss: 1.5101 - acc: 0.6137\n",
            "Epoch 17/50\n",
            "199/199 [==============================] - 8s 39ms/step - loss: 1.4613 - acc: 0.6258\n",
            "Epoch 18/50\n",
            "199/199 [==============================] - 8s 39ms/step - loss: 1.4098 - acc: 0.6346\n",
            "Epoch 19/50\n",
            "199/199 [==============================] - 8s 39ms/step - loss: 1.3847 - acc: 0.6380\n",
            "Epoch 20/50\n",
            "199/199 [==============================] - 8s 38ms/step - loss: 1.3418 - acc: 0.6491\n",
            "Epoch 21/50\n",
            "199/199 [==============================] - 9s 43ms/step - loss: 1.3095 - acc: 0.6566\n",
            "Epoch 22/50\n",
            "199/199 [==============================] - 8s 39ms/step - loss: 1.2767 - acc: 0.6618\n",
            "Epoch 23/50\n",
            "199/199 [==============================] - 8s 39ms/step - loss: 1.2492 - acc: 0.6671\n",
            "Epoch 24/50\n",
            "199/199 [==============================] - 8s 40ms/step - loss: 1.2458 - acc: 0.6663\n"
          ]
        }
      ]
    },
    {
      "cell_type": "code",
      "metadata": {
        "id": "sKmppR6VRUwf",
        "outputId": "3c3dd258-2268-4365-ae63-250fa000c055",
        "colab": {
          "base_uri": "https://localhost:8080/"
        }
      },
      "source": [
        "# Time to become a storyteller!\n",
        "seed_text = \"I could not help laughing at the ease with which he explained his process of deduction\"\n",
        "next_words = 100\n",
        "\n",
        "for _ in range(next_words):\n",
        "    sequence = tokenizer.texts_to_sequences([seed_text])\n",
        "    padded = pad_sequences(sequence, maxlen=max_seq_len - 1)\n",
        "    predicted = model.predict(padded, verbose=0)\n",
        "    predicted_index = np.argmax(predicted)\n",
        "    output_word = ''\n",
        "\n",
        "    # Find the word corresponding to the predicted index\n",
        "    for word, index in tokenizer.word_index.items():\n",
        "        if index == predicted_index:\n",
        "            output_word = word\n",
        "            break\n",
        "\n",
        "    seed_text += ' ' + output_word\n",
        "\n",
        "print(seed_text)\n"
      ],
      "execution_count": 24,
      "outputs": [
        {
          "output_type": "stream",
          "name": "stdout",
          "text": [
            "I could not help laughing at the ease with which he explained his process of deduction “when i had seen the matter in which he had shown him at great a mind whistle but it was in the way of the world ” i answered “the cases which are very old and from that my dear fellow wanted is a list from which you may observe that no one little ” said he ‘his cases whom it is a large square but the son buttons upon his feet and hurried round the corner to open and the door of the house and see all the shadow of the shadow came to my room there are the\n"
          ]
        }
      ]
    },
    {
      "cell_type": "code",
      "metadata": {
        "id": "xx1NNNxMILmW",
        "outputId": "30fa6d67-a93c-462c-b3fa-90a70d6fdeda",
        "colab": {
          "base_uri": "https://localhost:8080/",
          "height": 887
        }
      },
      "source": [
        "#let's look at how loss and accuracy changed while training\n",
        "import matplotlib.pyplot as plt\n",
        "\n",
        "acc = model_history.history['acc']\n",
        "loss = model_history.history['loss']\n",
        "\n",
        "epochs = range(len(acc))\n",
        "\n",
        "plt.plot(epochs, acc, 'b', label='Training accuracy')\n",
        "plt.title('Training accuracy')\n",
        "\n",
        "plt.figure()\n",
        "\n",
        "plt.plot(epochs, loss, 'b', label='Training Loss')\n",
        "plt.title('Training loss')\n",
        "plt.legend()\n",
        "\n",
        "plt.show()"
      ],
      "execution_count": 25,
      "outputs": [
        {
          "output_type": "display_data",
          "data": {
            "text/plain": [
              "<Figure size 640x480 with 1 Axes>"
            ],
            "image/png": "[encoded data removed]"
          },
          "metadata": {}
        },
        {
          "output_type": "display_data",
          "data": {
            "text/plain": [
              "<Figure size 640x480 with 1 Axes>"
            ],
            "image/png": "[encoded data removed]"
          },
          "metadata": {}
        }
      ]
    }
  ]
}